{
 "cells": [
  {
   "cell_type": "code",
   "execution_count": 23,
   "metadata": {},
   "outputs": [],
   "source": [
    "# imports\n",
    "import random"
   ]
  },
  {
   "cell_type": "code",
   "execution_count": 24,
   "metadata": {},
   "outputs": [],
   "source": [
    "# helper functions\n",
    "def prompt(display_text):\n",
    "        print(display_text)\n",
    "        return input()"
   ]
  },
  {
   "cell_type": "code",
   "execution_count": 25,
   "metadata": {},
   "outputs": [],
   "source": [
    "class Question():\n",
    "    def __init__(self, text, responses, correct_res_index, topic_tags):\n",
    "        self.text = text\n",
    "        self.responses = responses\n",
    "        self.correct_res_index = correct_res_index\n",
    "        self.topic_tags = topic_tags\n",
    "\n",
    "    def __repr__(self):\n",
    "        return f\"{{\\ntext: {self.text},\\nresponses: {self.responses},\\ncorrect_res_index: {self.correct_res_index},\\ntopic_tags: {self.topic_tags}\\n}}\""
   ]
  },
  {
   "cell_type": "code",
   "execution_count": 26,
   "metadata": {},
   "outputs": [],
   "source": []
  },
  {
   "cell_type": "code",
   "execution_count": 30,
   "metadata": {},
   "outputs": [],
   "source": [
    "# STUDY REVIEW PROJECT\n",
    "class Study_Session():\n",
    "    def __init__(self, questions = []):\n",
    "        self.questions = questions\n",
    "\n",
    "    def startup_prompt(self):\n",
    "        while True:\n",
    "            response = input(\"Type B to begin a study session, Q to add a question or EXIT to end program:\\n\").upper()\n",
    "\n",
    "            if response in (\"B\", \"Q\", \"EXIT\"): return response\n",
    "            \n",
    "            print(\"Input invalid.\")\n",
    "\n",
    "    def select_index(self, list, display_text):\n",
    "        valid_index = False\n",
    "        while not valid_index:\n",
    "            selected_index = input(display_text + '\\n')\n",
    "\n",
    "            try:\n",
    "                selected_index = int(selected_index)\n",
    "            except(ValueError):\n",
    "                pass\n",
    "            \n",
    "            valid_index = True\n",
    "            if selected_index not in range(0, len(list)):\n",
    "                    print(\"You must provid a valid index from 0 to\", len(list) - 1)\n",
    "                    valid_index = False\n",
    "\n",
    "        return int(selected_index)\n",
    "\n",
    "    def question_prompt(self):\n",
    "        text = input(\"Provide question text:\\n\")\n",
    "        responses = input(\"Provide comma (,) separated responses:\\n\").split(',')\n",
    "        responses = [response.strip() for response in responses]\n",
    "        for i, response in enumerate(responses):\n",
    "            print(f\"{i}: {response}\")\n",
    "\n",
    "        correct_res_index = self.select_index(responses, \"Indicate which response is correct:\")\n",
    "\n",
    "        topic_tags = input(\"Provide comma (,) separated topic tags:\\n\").split(',')\n",
    "        topic_tags = [topic_tag.strip() for topic_tag in topic_tags]\n",
    "\n",
    "        return Question(text,  responses, int(correct_res_index), topic_tags)\n",
    "\n",
    "    def add_question(self, question):\n",
    "        questions.append(question)\n",
    "\n",
    "    def start_review(self):\n",
    "        user_response = 'Y'\n",
    "        while user_response.upper() in ('Y', 'YES'):    \n",
    "            random_question = random.choice(questions)\n",
    "\n",
    "            print(f\"Questions:\\n{random_question.text}\")\n",
    "            print(\"Choices:\")\n",
    "            for i, choice in enumerate(random_question.responses):\n",
    "                print(f\"{i}: {choice}\")\n",
    "\n",
    "            selected_index = self.select_index(random_question.responses, \"Select your answer's index:\")\n",
    "\n",
    "            if (selected_index == random_question.correct_res_index):\n",
    "                print(\"Correct!\")\n",
    "            else:\n",
    "                print(f\"Incorrect, the correct answer is {random_question.responses[random_question.correct_res_index]}.\")\n",
    "\n",
    "            user_response = prompt('Would you like to continue your review? (Y/N):\\n')\n",
    "\n",
    "    def start(self):\n",
    "        response = ''\n",
    "\n",
    "        while response != 'EXIT':\n",
    "            response = self.startup_prompt()\n",
    "\n",
    "            if response == \"Q\":\n",
    "                new_question = self.question_prompt()\n",
    "                self.add_question(new_question)\n",
    "            elif response == \"B\":\n",
    "                self.start_review()"
   ]
  },
  {
   "cell_type": "code",
   "execution_count": 28,
   "metadata": {},
   "outputs": [],
   "source": [
    "# create new study session\n",
    "study_session = Study_Session()"
   ]
  },
  {
   "cell_type": "code",
   "execution_count": 29,
   "metadata": {},
   "outputs": [
    {
     "name": "stdout",
     "output_type": "stream",
     "text": [
      "startup\n",
      "0: yes\n",
      "1: no\n",
      "startup\n",
      "Is Loden the greatest?\n",
      "Choices:\n",
      "0: yes\n",
      "1: no\n",
      "Correct!\n",
      "Would you like to continue your review? (Y/N):\n",
      "\n",
      "startup\n",
      "Input invalid.\n"
     ]
    }
   ],
   "source": [
    "study_session.start()\n"
   ]
  }
 ],
 "metadata": {
  "kernelspec": {
   "display_name": "Python 3",
   "language": "python",
   "name": "python3"
  },
  "language_info": {
   "codemirror_mode": {
    "name": "ipython",
    "version": 3
   },
   "file_extension": ".py",
   "mimetype": "text/x-python",
   "name": "python",
   "nbconvert_exporter": "python",
   "pygments_lexer": "ipython3",
   "version": "3.8.10"
  },
  "orig_nbformat": 4
 },
 "nbformat": 4,
 "nbformat_minor": 2
}
